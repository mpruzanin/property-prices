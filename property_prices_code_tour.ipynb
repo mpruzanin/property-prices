{
 "cells": [
  {
   "cell_type": "code",
   "execution_count": 2,
   "metadata": {
    "colab": {},
    "colab_type": "code",
    "id": "Ksu0wrLohyx3"
   },
   "outputs": [],
   "source": [
    "import re\n",
    "import pandas as pd\n",
    "import numpy as np\n",
    "np.random.seed(0)\n",
    "\n",
    "from scikitplot.estimators import plot_learning_curve\n",
    "\n",
    "from scikitplot.estimators import plot_feature_importances\n",
    "from eli5.xgboost import explain_weights_xgboost\n",
    "\n",
    "from sklearn.model_selection import cross_val_score\n",
    "from sklearn.metrics import make_scorer \n",
    "\n",
    "from sklearn.dummy import DummyRegressor\n",
    "from sklearn.tree import DecisionTreeRegressor\n",
    "from sklearn.ensemble import RandomForestRegressor\n",
    "import xgboost as xgb\n",
    "import catboost as ctb\n",
    "\n",
    "from ml_metrics import rmsle\n",
    "\n",
    "import seaborn as sns\n",
    "import matplotlib.pyplot as plt\n",
    "plt.rcParams['figure.figsize']=(15,5)"
   ]
  },
  {
   "cell_type": "markdown",
   "metadata": {},
   "source": [
    "## Preparing dataset"
   ]
  },
  {
   "cell_type": "code",
   "execution_count": 3,
   "metadata": {
    "colab": {},
    "colab_type": "code",
    "id": "E2PBX3h5nIkP"
   },
   "outputs": [],
   "source": [
    "train = pd.read_hdf('./input/train.h5')\n",
    "test = pd.read_hdf('./input/test.h5')"
   ]
  },
  {
   "cell_type": "code",
   "execution_count": 4,
   "metadata": {
    "colab": {},
    "colab_type": "code",
    "id": "ujEyKasTnJ77"
   },
   "outputs": [
    {
     "data": {
      "text/plain": [
       "(68349, 10)"
      ]
     },
     "execution_count": 4,
     "metadata": {},
     "output_type": "execute_result"
    }
   ],
   "source": [
    "df = pd.concat([train, test])\n",
    "df.shape"
   ]
  },
  {
   "cell_type": "code",
   "execution_count": 5,
   "metadata": {
    "colab": {},
    "colab_type": "code",
    "id": "cNgj2KvDnLgR"
   },
   "outputs": [
    {
     "name": "stdout",
     "output_type": "stream",
     "text": [
      "<class 'pandas.core.frame.DataFrame'>\n",
      "Int64Index: 68349 entries, 4 to 68348\n",
      "Data columns (total 10 columns):\n",
      "breadcrumbs       68349 non-null object\n",
      "date              68349 non-null object\n",
      "date_crawling     68349 non-null object\n",
      "geo_block         68349 non-null object\n",
      "id                68349 non-null int64\n",
      "is_test           45566 non-null float64\n",
      "owner             68349 non-null object\n",
      "params            68349 non-null object\n",
      "params_en_full    68349 non-null object\n",
      "price             45566 non-null float64\n",
      "dtypes: float64(2), int64(1), object(7)\n",
      "memory usage: 5.7+ MB\n"
     ]
    }
   ],
   "source": [
    "df.info()"
   ]
  },
  {
   "cell_type": "code",
   "execution_count": 6,
   "metadata": {
    "colab": {},
    "colab_type": "code",
    "id": "KFSLRgiinQ8g"
   },
   "outputs": [
    {
     "data": {
      "text/plain": [
       "{'Ad type:',\n",
       " 'Address:',\n",
       " 'Balcony type:',\n",
       " 'Bathroom type:',\n",
       " 'Building type:',\n",
       " 'Ceiling height:',\n",
       " 'Class:',\n",
       " 'Commission agent:',\n",
       " 'Construction phase:',\n",
       " 'Date published:',\n",
       " 'Developer:',\n",
       " 'Elevator:',\n",
       " 'Floor covering:',\n",
       " 'Floor:',\n",
       " 'Foundation type:',\n",
       " 'Free layout:',\n",
       " 'Fridge:',\n",
       " 'Furniture:',\n",
       " 'Garbage chute:',\n",
       " 'Housing class:',\n",
       " 'ID:',\n",
       " 'Internet:',\n",
       " 'It is possible to bargain:',\n",
       " 'Kitchen area:',\n",
       " 'Kitchen furniture:',\n",
       " 'Living room:',\n",
       " 'Management company:',\n",
       " 'Mortgage possible:',\n",
       " 'New building:',\n",
       " 'Number of apartments:',\n",
       " 'Number of buildings:',\n",
       " 'Number of dwellings:',\n",
       " 'Number of entrances:',\n",
       " 'Number of floors:',\n",
       " 'Number of rooms:',\n",
       " 'Object type:',\n",
       " 'Overlap type:',\n",
       " 'Parking:',\n",
       " 'Phone:',\n",
       " 'Playground:',\n",
       " 'Pre-pay',\n",
       " 'Price:',\n",
       " 'Repair:',\n",
       " 'Room type:',\n",
       " 'Security:',\n",
       " 'Series:',\n",
       " 'Surrender:',\n",
       " 'TV:',\n",
       " 'The largest number of floors:',\n",
       " 'The smallest number of floors:',\n",
       " 'The view from the window:',\n",
       " 'Total area:',\n",
       " 'Type of the building:',\n",
       " 'Updated date:',\n",
       " 'Washing machine:',\n",
       " 'Year built:',\n",
       " 'price per m2:'}"
      ]
     },
     "execution_count": 6,
     "metadata": {},
     "output_type": "execute_result"
    }
   ],
   "source": [
    "all_keys = set()\n",
    "_ = df['params_en_full'].map(lambda x: all_keys.update(x.keys()) )\n",
    "\n",
    "all_keys"
   ]
  },
  {
   "cell_type": "markdown",
   "metadata": {},
   "source": [
    "## Feature Engineering"
   ]
  },
  {
   "cell_type": "code",
   "execution_count": 7,
   "metadata": {
    "colab": {},
    "colab_type": "code",
    "id": "qXInhZwBnRbX"
   },
   "outputs": [],
   "source": [
    "def get_value(items, key, type_value=np.int8, filter_=None):\n",
    "    if key not in items:\n",
    "        return -1\n",
    "    \n",
    "    try:\n",
    "        value = filter_(items[key]) if filter_ else items[key]\n",
    "        return type_value(value)\n",
    "    except:\n",
    "        return -1\n",
    "    \n",
    "def num_filter(val):\n",
    "    return re.sub('[^0-9]','', val)\n",
    "\n",
    "def float_filter(val):\n",
    "    return re.sub('[^0-9\\,\\.]','', val).replace(',', '.')\n",
    "\n",
    "def price_filter(val):\n",
    "    return re.sub('[^0-9\\,\\.\\ ]','', val).replace(',', '.').strip()\n",
    "\n",
    "\n",
    "def yes_filter(val):\n",
    "    if val == 'yes':\n",
    "        return 1\n",
    "    return -1\n",
    "\n",
    "def str_filter(val):\n",
    "    return val.lower().strip()\n",
    "\n",
    "def summary(values, percentiles=[1, 5, 95, 99, 100]):\n",
    "    for percnetile in percentiles:\n",
    "        print('{0}th -> {1}'.format(percnetile, np.percentile(values, percnetile) ))\n",
    "        \n"
   ]
  },
  {
   "cell_type": "code",
   "execution_count": 8,
   "metadata": {
    "colab": {},
    "colab_type": "code",
    "id": "JqHtUvXKn5dC"
   },
   "outputs": [],
   "source": [
    "yes_list = ['Elevator:', \n",
    "            'Mortgage possible:', \n",
    "            'Phone:',\n",
    "            'Garbage chute:']\n",
    "num_list = ['Floor',\n",
    "            'Number of apartments:', \n",
    "            'Number of buildings:', \n",
    "            'Number of dwellings:', \n",
    "            'Number of entrances:', \n",
    "            'Number of floors:', \n",
    "            'Number of rooms:', \n",
    "            'The largest number of floors:',\n",
    "            'Year built:']\n",
    "float_list = ['Total area:', \n",
    "              'Ceiling height:', \n",
    "              'Kitchen area:', \n",
    "              'Living room:']\n",
    "\n",
    "for key in all_keys:\n",
    "    key_name = 'p_{0}'.format( key.replace(':', '').replace(' ', '_').lower() )\n",
    "    \n",
    "    if key in yes_list:\n",
    "        df[key_name] = df['params_en_full'].map(lambda x: get_value(x, key, np.int8, yes_filter))\n",
    "        continue\n",
    "    \n",
    "    if key in num_list:\n",
    "        df[key_name] = df['params_en_full'].map(lambda x: get_value(x, key, np.int16, num_filter))\n",
    "        continue\n",
    "    \n",
    "    if key in float_list:\n",
    "        df[key_name] = df['params_en_full'].map(lambda x: get_value(x, key, np.float, float_filter))\n",
    "        continue\n",
    "    \n",
    "    df[key_name] = df['params_en_full'].map(lambda x: get_value(x, key, np.str, str_filter))"
   ]
  },
  {
   "cell_type": "code",
   "execution_count": 9,
   "metadata": {
    "colab": {},
    "colab_type": "code",
    "id": "0F-5Ul3Un7EY"
   },
   "outputs": [],
   "source": [
    "cat_feats = ['p_building_type', \n",
    "             'p_object_type', \n",
    "             'p_bathroom_type', \n",
    "             'p_the_view_from_the_window', \n",
    "             'p_construction_phase', \n",
    "             'p_repair',\n",
    "             'p_room_type',\n",
    "             'p_housing_class']\n",
    "for cat_feat in cat_feats:\n",
    "    df['{0}'.format(cat_feat)] = pd.factorize( df[cat_feat] )[0]"
   ]
  },
  {
   "cell_type": "code",
   "execution_count": 10,
   "metadata": {
    "colab": {},
    "colab_type": "code",
    "id": "Kic-r43cn9Cm"
   },
   "outputs": [],
   "source": [
    "df['p_floor_int'] = df['p_floor'].map(lambda x: str(x).split('/')[0].strip() ).astype(np.int8)\n",
    "df['last_floor'] = df.p_floor_int == df.p_number_of_floors"
   ]
  },
  {
   "cell_type": "code",
   "execution_count": 11,
   "metadata": {
    "colab": {},
    "colab_type": "code",
    "id": "R7iAMoTknUlf"
   },
   "outputs": [
    {
     "name": "stdout",
     "output_type": "stream",
     "text": [
      "1th -> 1.0\n",
      "5th -> 2.0\n",
      "95th -> 28.0\n",
      "99th -> 44.0\n",
      "100th -> 97.0\n"
     ]
    },
    {
     "data": {
      "image/png": "[encoded data removed]",
      "text/plain": [
       "<Figure size 432x288 with 1 Axes>"
      ]
     },
     "metadata": {
      "needs_background": "light"
     },
     "output_type": "display_data"
    }
   ],
   "source": [
    "summary(df.p_floor_int)\n",
    "df.p_floor_int.hist(bins=20);"
   ]
  },
  {
   "cell_type": "code",
   "execution_count": 12,
   "metadata": {
    "colab": {},
    "colab_type": "code",
    "id": "ohPMK5MnoLQk"
   },
   "outputs": [
    {
     "data": {
      "image/png": "[encoded data removed]",
      "text/plain": [
       "<Figure size 432x288 with 1 Axes>"
      ]
     },
     "metadata": {
      "needs_background": "light"
     },
     "output_type": "display_data"
    }
   ],
   "source": [
    "df['p_floor_log'] = np.log( df.p_floor_int )\n",
    "df['p_floor_log'].hist(bins=30);"
   ]
  },
  {
   "cell_type": "code",
   "execution_count": 13,
   "metadata": {
    "colab": {},
    "colab_type": "code",
    "id": "cHbZKx7aoaeg"
   },
   "outputs": [
    {
     "name": "stdout",
     "output_type": "stream",
     "text": [
      "1th -> 20.0\n",
      "5th -> 31.24000000000001\n",
      "95th -> 128.0\n",
      "99th -> 216.0\n",
      "100th -> 1971.1\n"
     ]
    },
    {
     "data": {
      "image/png": "[encoded data removed]",
      "text/plain": [
       "<Figure size 432x288 with 1 Axes>"
      ]
     },
     "metadata": {
      "needs_background": "light"
     },
     "output_type": "display_data"
    }
   ],
   "source": [
    "summary(df.p_total_area )\n",
    "df.p_total_area .hist(bins=20);"
   ]
  },
  {
   "cell_type": "code",
   "execution_count": 14,
   "metadata": {
    "colab": {},
    "colab_type": "code",
    "id": "3jovh-YSoajj"
   },
   "outputs": [
    {
     "data": {
      "image/png": "[encoded data removed]",
      "text/plain": [
       "<Figure size 432x288 with 1 Axes>"
      ]
     },
     "metadata": {
      "needs_background": "light"
     },
     "output_type": "display_data"
    }
   ],
   "source": [
    "df['p_total_area_log'] = np.log( df.p_total_area )\n",
    "df['p_total_area_log'].hist(bins=30);"
   ]
  },
  {
   "cell_type": "code",
   "execution_count": 15,
   "metadata": {
    "colab": {},
    "colab_type": "code",
    "id": "d49XsBf6oaoN"
   },
   "outputs": [
    {
     "name": "stdout",
     "output_type": "stream",
     "text": [
      "1th -> 5.0\n",
      "5th -> 8.0\n",
      "95th -> 1725.0\n",
      "99th -> 2331.0\n",
      "100th -> 6377.0\n"
     ]
    },
    {
     "data": {
      "image/png": "[encoded data removed]",
      "text/plain": [
       "<Figure size 432x288 with 1 Axes>"
      ]
     },
     "metadata": {
      "needs_background": "light"
     },
     "output_type": "display_data"
    }
   ],
   "source": [
    "summary(df.p_number_of_floors )\n",
    "df.p_number_of_floors.hist(bins=20);"
   ]
  },
  {
   "cell_type": "code",
   "execution_count": 16,
   "metadata": {
    "colab": {},
    "colab_type": "code",
    "id": "YPXkXgpGo1tn"
   },
   "outputs": [
    {
     "data": {
      "image/png": "[encoded data removed]",
      "text/plain": [
       "<Figure size 432x288 with 1 Axes>"
      ]
     },
     "metadata": {
      "needs_background": "light"
     },
     "output_type": "display_data"
    }
   ],
   "source": [
    "df['p_number_of_floors_log'] = np.log( df.p_number_of_floors )\n",
    "df['p_number_of_floors_log'].hist(bins=30);"
   ]
  },
  {
   "cell_type": "markdown",
   "metadata": {},
   "source": [
    "## Model"
   ]
  },
  {
   "cell_type": "code",
   "execution_count": 17,
   "metadata": {
    "colab": {},
    "colab_type": "code",
    "id": "lu270F6SpBBk"
   },
   "outputs": [],
   "source": [
    "def custom_rmsle(model, X_test, y_test):\n",
    "    y_pred = model.predict(X_test)\n",
    "    y_pred[ y_pred < 0 ] = 0\n",
    "\n",
    "    return rmsle(y_test, y_pred)\n",
    "\n",
    "def get_feats(data, exclude_feats=[]):\n",
    "    selected_feats = list(data.select_dtypes(include=[np.number, np.bool]).columns)\n",
    "    black_list = ['price', 'is_test', 'id'] + exclude_feats\n",
    "    return [feat for feat in selected_feats if feat not in black_list]"
   ]
  },
  {
   "cell_type": "code",
   "execution_count": 18,
   "metadata": {
    "colab": {},
    "colab_type": "code",
    "id": "UCZU0E80pBNR"
   },
   "outputs": [
    {
     "data": {
      "text/plain": [
       "['last_floor',\n",
       " 'p_building_type',\n",
       " 'p_ceiling_height',\n",
       " 'p_construction_phase',\n",
       " 'p_floor_log',\n",
       " 'p_housing_class',\n",
       " 'p_mortgage_possible',\n",
       " 'p_number_of_apartments',\n",
       " 'p_number_of_buildings',\n",
       " 'p_number_of_dwellings',\n",
       " 'p_number_of_entrances',\n",
       " 'p_number_of_floors',\n",
       " 'p_number_of_floors_log',\n",
       " 'p_number_of_rooms',\n",
       " 'p_object_type',\n",
       " 'p_phone',\n",
       " 'p_room_type',\n",
       " 'p_total_area_log']"
      ]
     },
     "execution_count": 18,
     "metadata": {},
     "output_type": "execute_result"
    }
   ],
   "source": [
    "exclude_feats = ['p_price', \n",
    "                 'p_price_m2',\n",
    "                 'p_bathroom_type', \n",
    "                 'p_the_view_from_the_window',\n",
    "                 'p_living_room',\n",
    "                 'p_garbage_chute',\n",
    "                 'p_elevator',\n",
    "                 'p_floor_int',\n",
    "                 'p_total_area',\n",
    "                 'p_repair',\n",
    "                 'p_the_largest_number_of_floors',\n",
    "                 'p_year_built',\n",
    "                 'p_kitchen_area'\n",
    "                ]\n",
    "\n",
    "feats = get_feats(df, exclude_feats)\n",
    "sorted(feats)"
   ]
  },
  {
   "cell_type": "code",
   "execution_count": 19,
   "metadata": {
    "colab": {},
    "colab_type": "code",
    "id": "r6-HKDO_pBWQ"
   },
   "outputs": [],
   "source": [
    "train, test = df[ False == df.price.isnull() ], df[ df.price.isnull() ]\n",
    "\n",
    "X_train = train[ feats ].values\n",
    "y_train = train['price'].values\n",
    "y_log = np.log(y_train)\n",
    "\n",
    "X_test = test[ feats ].values"
   ]
  },
  {
   "cell_type": "code",
   "execution_count": 20,
   "metadata": {
    "colab": {},
    "colab_type": "code",
    "id": "cjGXzMigqbWZ"
   },
   "outputs": [
    {
     "name": "stdout",
     "output_type": "stream",
     "text": [
      "[21:26:18] WARNING: /workspace/src/objective/regression_obj.cu:152: reg:linear is now deprecated in favor of reg:squarederror.\n",
      "[21:26:35] WARNING: /workspace/src/objective/regression_obj.cu:152: reg:linear is now deprecated in favor of reg:squarederror.\n",
      "[21:26:46] WARNING: /workspace/src/objective/regression_obj.cu:152: reg:linear is now deprecated in favor of reg:squarederror.\n",
      "[21:26:58] WARNING: /workspace/src/objective/regression_obj.cu:152: reg:linear is now deprecated in favor of reg:squarederror.\n",
      "0.17939637862093702 0.009444418531752565\n"
     ]
    },
    {
     "data": {
      "text/html": [
       "\n",
       "    <style>\n",
       "    table.eli5-weights tr:hover {\n",
       "        filter: brightness(85%);\n",
       "    }\n",
       "</style>\n",
       "\n",
       "\n",
       "\n",
       "    \n",
       "\n",
       "    \n",
       "\n",
       "    \n",
       "\n",
       "    \n",
       "\n",
       "    \n",
       "\n",
       "    \n",
       "\n",
       "\n",
       "    \n",
       "\n",
       "    \n",
       "\n",
       "    \n",
       "\n",
       "    \n",
       "\n",
       "    \n",
       "\n",
       "    \n",
       "\n",
       "\n",
       "    \n",
       "\n",
       "    \n",
       "\n",
       "    \n",
       "\n",
       "    \n",
       "\n",
       "    \n",
       "        <table class=\"eli5-weights eli5-feature-importances\" style=\"border-collapse: collapse; border: none; margin-top: 0em; table-layout: auto;\">\n",
       "    <thead>\n",
       "    <tr style=\"border: none;\">\n",
       "        <th style=\"padding: 0 1em 0 0.5em; text-align: right; border: none;\">Weight</th>\n",
       "        <th style=\"padding: 0 0.5em 0 0.5em; text-align: left; border: none;\">Feature</th>\n",
       "    </tr>\n",
       "    </thead>\n",
       "    <tbody>\n",
       "    \n",
       "        <tr style=\"background-color: hsl(120, 100.00%, 80.00%); border: none;\">\n",
       "            <td style=\"padding: 0 1em 0 0.5em; text-align: right; border: none;\">\n",
       "                0.2835\n",
       "                \n",
       "            </td>\n",
       "            <td style=\"padding: 0 0.5em 0 0.5em; text-align: left; border: none;\">\n",
       "                p_total_area_log\n",
       "            </td>\n",
       "        </tr>\n",
       "    \n",
       "        <tr style=\"background-color: hsl(120, 100.00%, 85.94%); border: none;\">\n",
       "            <td style=\"padding: 0 1em 0 0.5em; text-align: right; border: none;\">\n",
       "                0.1714\n",
       "                \n",
       "            </td>\n",
       "            <td style=\"padding: 0 0.5em 0 0.5em; text-align: left; border: none;\">\n",
       "                p_housing_class\n",
       "            </td>\n",
       "        </tr>\n",
       "    \n",
       "        <tr style=\"background-color: hsl(120, 100.00%, 87.90%); border: none;\">\n",
       "            <td style=\"padding: 0 1em 0 0.5em; text-align: right; border: none;\">\n",
       "                0.1383\n",
       "                \n",
       "            </td>\n",
       "            <td style=\"padding: 0 0.5em 0 0.5em; text-align: left; border: none;\">\n",
       "                p_number_of_floors_log\n",
       "            </td>\n",
       "        </tr>\n",
       "    \n",
       "        <tr style=\"background-color: hsl(120, 100.00%, 91.32%); border: none;\">\n",
       "            <td style=\"padding: 0 1em 0 0.5em; text-align: right; border: none;\">\n",
       "                0.0860\n",
       "                \n",
       "            </td>\n",
       "            <td style=\"padding: 0 0.5em 0 0.5em; text-align: left; border: none;\">\n",
       "                p_number_of_apartments\n",
       "            </td>\n",
       "        </tr>\n",
       "    \n",
       "        <tr style=\"background-color: hsl(120, 100.00%, 92.50%); border: none;\">\n",
       "            <td style=\"padding: 0 1em 0 0.5em; text-align: right; border: none;\">\n",
       "                0.0699\n",
       "                \n",
       "            </td>\n",
       "            <td style=\"padding: 0 0.5em 0 0.5em; text-align: left; border: none;\">\n",
       "                p_number_of_floors\n",
       "            </td>\n",
       "        </tr>\n",
       "    \n",
       "        <tr style=\"background-color: hsl(120, 100.00%, 93.93%); border: none;\">\n",
       "            <td style=\"padding: 0 1em 0 0.5em; text-align: right; border: none;\">\n",
       "                0.0516\n",
       "                \n",
       "            </td>\n",
       "            <td style=\"padding: 0 0.5em 0 0.5em; text-align: left; border: none;\">\n",
       "                p_number_of_entrances\n",
       "            </td>\n",
       "        </tr>\n",
       "    \n",
       "        <tr style=\"background-color: hsl(120, 100.00%, 95.97%); border: none;\">\n",
       "            <td style=\"padding: 0 1em 0 0.5em; text-align: right; border: none;\">\n",
       "                0.0288\n",
       "                \n",
       "            </td>\n",
       "            <td style=\"padding: 0 0.5em 0 0.5em; text-align: left; border: none;\">\n",
       "                p_mortgage_possible\n",
       "            </td>\n",
       "        </tr>\n",
       "    \n",
       "        <tr style=\"background-color: hsl(120, 100.00%, 96.20%); border: none;\">\n",
       "            <td style=\"padding: 0 1em 0 0.5em; text-align: right; border: none;\">\n",
       "                0.0265\n",
       "                \n",
       "            </td>\n",
       "            <td style=\"padding: 0 0.5em 0 0.5em; text-align: left; border: none;\">\n",
       "                p_number_of_buildings\n",
       "            </td>\n",
       "        </tr>\n",
       "    \n",
       "        <tr style=\"background-color: hsl(120, 100.00%, 96.29%); border: none;\">\n",
       "            <td style=\"padding: 0 1em 0 0.5em; text-align: right; border: none;\">\n",
       "                0.0256\n",
       "                \n",
       "            </td>\n",
       "            <td style=\"padding: 0 0.5em 0 0.5em; text-align: left; border: none;\">\n",
       "                p_number_of_dwellings\n",
       "            </td>\n",
       "        </tr>\n",
       "    \n",
       "        <tr style=\"background-color: hsl(120, 100.00%, 96.67%); border: none;\">\n",
       "            <td style=\"padding: 0 1em 0 0.5em; text-align: right; border: none;\">\n",
       "                0.0219\n",
       "                \n",
       "            </td>\n",
       "            <td style=\"padding: 0 0.5em 0 0.5em; text-align: left; border: none;\">\n",
       "                p_construction_phase\n",
       "            </td>\n",
       "        </tr>\n",
       "    \n",
       "        <tr style=\"background-color: hsl(120, 100.00%, 96.69%); border: none;\">\n",
       "            <td style=\"padding: 0 1em 0 0.5em; text-align: right; border: none;\">\n",
       "                0.0217\n",
       "                \n",
       "            </td>\n",
       "            <td style=\"padding: 0 0.5em 0 0.5em; text-align: left; border: none;\">\n",
       "                p_ceiling_height\n",
       "            </td>\n",
       "        </tr>\n",
       "    \n",
       "        <tr style=\"background-color: hsl(120, 100.00%, 96.89%); border: none;\">\n",
       "            <td style=\"padding: 0 1em 0 0.5em; text-align: right; border: none;\">\n",
       "                0.0198\n",
       "                \n",
       "            </td>\n",
       "            <td style=\"padding: 0 0.5em 0 0.5em; text-align: left; border: none;\">\n",
       "                p_phone\n",
       "            </td>\n",
       "        </tr>\n",
       "    \n",
       "        <tr style=\"background-color: hsl(120, 100.00%, 97.76%); border: none;\">\n",
       "            <td style=\"padding: 0 1em 0 0.5em; text-align: right; border: none;\">\n",
       "                0.0124\n",
       "                \n",
       "            </td>\n",
       "            <td style=\"padding: 0 0.5em 0 0.5em; text-align: left; border: none;\">\n",
       "                p_floor_log\n",
       "            </td>\n",
       "        </tr>\n",
       "    \n",
       "        <tr style=\"background-color: hsl(120, 100.00%, 97.98%); border: none;\">\n",
       "            <td style=\"padding: 0 1em 0 0.5em; text-align: right; border: none;\">\n",
       "                0.0107\n",
       "                \n",
       "            </td>\n",
       "            <td style=\"padding: 0 0.5em 0 0.5em; text-align: left; border: none;\">\n",
       "                p_number_of_rooms\n",
       "            </td>\n",
       "        </tr>\n",
       "    \n",
       "        <tr style=\"background-color: hsl(120, 100.00%, 98.10%); border: none;\">\n",
       "            <td style=\"padding: 0 1em 0 0.5em; text-align: right; border: none;\">\n",
       "                0.0098\n",
       "                \n",
       "            </td>\n",
       "            <td style=\"padding: 0 0.5em 0 0.5em; text-align: left; border: none;\">\n",
       "                p_building_type\n",
       "            </td>\n",
       "        </tr>\n",
       "    \n",
       "        <tr style=\"background-color: hsl(120, 100.00%, 98.17%); border: none;\">\n",
       "            <td style=\"padding: 0 1em 0 0.5em; text-align: right; border: none;\">\n",
       "                0.0093\n",
       "                \n",
       "            </td>\n",
       "            <td style=\"padding: 0 0.5em 0 0.5em; text-align: left; border: none;\">\n",
       "                p_room_type\n",
       "            </td>\n",
       "        </tr>\n",
       "    \n",
       "        <tr style=\"background-color: hsl(120, 100.00%, 98.26%); border: none;\">\n",
       "            <td style=\"padding: 0 1em 0 0.5em; text-align: right; border: none;\">\n",
       "                0.0086\n",
       "                \n",
       "            </td>\n",
       "            <td style=\"padding: 0 0.5em 0 0.5em; text-align: left; border: none;\">\n",
       "                last_floor\n",
       "            </td>\n",
       "        </tr>\n",
       "    \n",
       "        <tr style=\"background-color: hsl(120, 100.00%, 98.96%); border: none;\">\n",
       "            <td style=\"padding: 0 1em 0 0.5em; text-align: right; border: none;\">\n",
       "                0.0042\n",
       "                \n",
       "            </td>\n",
       "            <td style=\"padding: 0 0.5em 0 0.5em; text-align: left; border: none;\">\n",
       "                p_object_type\n",
       "            </td>\n",
       "        </tr>\n",
       "    \n",
       "    \n",
       "    </tbody>\n",
       "</table>\n",
       "    \n",
       "\n",
       "    \n",
       "\n",
       "\n",
       "    \n",
       "\n",
       "    \n",
       "\n",
       "    \n",
       "\n",
       "    \n",
       "\n",
       "    \n",
       "\n",
       "    \n",
       "\n",
       "\n",
       "\n"
      ],
      "text/plain": [
       "Explanation(estimator=\"XGBRegressor(base_score=0.5, booster='gbtree', colsample_bylevel=1,\\n             colsample_bynode=1, colsample_bytree=1, gamma=0,\\n             importance_type='gain', learning_rate=0.2, max_delta_step=0,\\n             max_depth=20, min_child_weight=1, missing=None, n_estimators=100,\\n             n_jobs=5, nthread=None, objective='reg:linear', random_state=0,\\n             reg_alpha=0, reg_lambda=1, scale_pos_weight=1, seed=None,\\n             silent=None, subsample=1, verbosity=1)\", description='\\nXGBoost feature importances; values are numbers 0 <= x <= 1;\\nall values sum to 1.\\n', error=None, method='feature importances', is_regression=True, targets=None, feature_importances=FeatureImportances(importances=[FeatureWeight(feature='p_total_area_log', weight=0.283526, std=None, value=None), FeatureWeight(feature='p_housing_class', weight=0.17138818, std=None, value=None), FeatureWeight(feature='p_number_of_floors_log', weight=0.13827425, std=None, value=None), FeatureWeight(feature='p_number_of_apartments', weight=0.08597759, std=None, value=None), FeatureWeight(feature='p_number_of_floors', weight=0.069885835, std=None, value=None), FeatureWeight(feature='p_number_of_entrances', weight=0.051618718, std=None, value=None), FeatureWeight(feature='p_mortgage_possible', weight=0.028763212, std=None, value=None), FeatureWeight(feature='p_number_of_buildings', weight=0.026466051, std=None, value=None), FeatureWeight(feature='p_number_of_dwellings', weight=0.02556427, std=None, value=None), FeatureWeight(feature='p_construction_phase', weight=0.021932615, std=None, value=None), FeatureWeight(feature='p_ceiling_height', weight=0.021668434, std=None, value=None), FeatureWeight(feature='p_phone', weight=0.019835759, std=None, value=None), FeatureWeight(feature='p_floor_log', weight=0.012436794, std=None, value=None), FeatureWeight(feature='p_number_of_rooms', weight=0.010685263, std=None, value=None), FeatureWeight(feature='p_building_type', weight=0.00982906, std=None, value=None), FeatureWeight(feature='p_room_type', weight=0.009321762, std=None, value=None), FeatureWeight(feature='last_floor', weight=0.008646432, std=None, value=None), FeatureWeight(feature='p_object_type', weight=0.0041797734, std=None, value=None)], remaining=0), decision_tree=None, highlight_spaces=None, transition_features=None)"
      ]
     },
     "execution_count": 20,
     "metadata": {},
     "output_type": "execute_result"
    }
   ],
   "source": [
    "model_params = {\n",
    "        'max_depth': 20,\n",
    "        'learning_rate': 0.2,\n",
    "        'n_estimators': 100,\n",
    "        'n_jobs': 5\n",
    "    }\n",
    "\n",
    "model = xgb.XGBRegressor(**model_params,)\n",
    "model.fit(X_train, y_train)\n",
    "\n",
    "scores = cross_val_score(model, X_train, y_train, cv=3, scoring=custom_rmsle)\n",
    "print(np.mean(scores), np.std(scores))\n",
    "\n",
    "explain_weights_xgboost(model, feature_names=feats, top=50)"
   ]
  },
  {
   "cell_type": "code",
   "execution_count": 21,
   "metadata": {
    "colab": {},
    "colab_type": "code",
    "id": "m4IaC60jqiK1"
   },
   "outputs": [
    {
     "name": "stdout",
     "output_type": "stream",
     "text": [
      "[21:28:03] WARNING: /workspace/src/objective/regression_obj.cu:152: reg:linear is now deprecated in favor of reg:squarederror.\n",
      "[21:28:04] WARNING: /workspace/src/objective/regression_obj.cu:152: reg:linear is now deprecated in favor of reg:squarederror.\n",
      "[21:28:10] WARNING: /workspace/src/objective/regression_obj.cu:152: reg:linear is now deprecated in favor of reg:squarederror.\n",
      "[21:28:18] WARNING: /workspace/src/objective/regression_obj.cu:152: reg:linear is now deprecated in favor of reg:squarederror.\n",
      "[21:28:28] WARNING: /workspace/src/objective/regression_obj.cu:152: reg:linear is now deprecated in favor of reg:squarederror.\n",
      "[21:28:48] WARNING: /workspace/src/objective/regression_obj.cu:152: reg:linear is now deprecated in favor of reg:squarederror.\n",
      "[21:28:50] WARNING: /workspace/src/objective/regression_obj.cu:152: reg:linear is now deprecated in favor of reg:squarederror.\n",
      "[21:28:56] WARNING: /workspace/src/objective/regression_obj.cu:152: reg:linear is now deprecated in favor of reg:squarederror.\n",
      "[21:29:06] WARNING: /workspace/src/objective/regression_obj.cu:152: reg:linear is now deprecated in favor of reg:squarederror.\n",
      "[21:29:18] WARNING: /workspace/src/objective/regression_obj.cu:152: reg:linear is now deprecated in favor of reg:squarederror.\n",
      "[21:29:31] WARNING: /workspace/src/objective/regression_obj.cu:152: reg:linear is now deprecated in favor of reg:squarederror.\n",
      "[21:29:33] WARNING: /workspace/src/objective/regression_obj.cu:152: reg:linear is now deprecated in favor of reg:squarederror.\n",
      "[21:29:37] WARNING: /workspace/src/objective/regression_obj.cu:152: reg:linear is now deprecated in favor of reg:squarederror.\n",
      "[21:29:43] WARNING: /workspace/src/objective/regression_obj.cu:152: reg:linear is now deprecated in favor of reg:squarederror.\n",
      "[21:29:52] WARNING: /workspace/src/objective/regression_obj.cu:152: reg:linear is now deprecated in favor of reg:squarederror.\n"
     ]
    },
    {
     "data": {
      "image/png": "[encoded data removed]",
      "text/plain": [
       "<Figure size 1296x504 with 1 Axes>"
      ]
     },
     "metadata": {
      "needs_background": "light"
     },
     "output_type": "display_data"
    }
   ],
   "source": [
    "plot_learning_curve(model, X_train, y_train, cv=3, figsize=(18, 7), scoring=custom_rmsle);"
   ]
  },
  {
   "cell_type": "code",
   "execution_count": 22,
   "metadata": {
    "colab": {},
    "colab_type": "code",
    "id": "7v4VjR0wqbhp"
   },
   "outputs": [
    {
     "name": "stdout",
     "output_type": "stream",
     "text": [
      "[21:32:54] WARNING: /workspace/src/objective/regression_obj.cu:152: reg:linear is now deprecated in favor of reg:squarederror.\n"
     ]
    }
   ],
   "source": [
    "model.fit(X_train, y_log)\n",
    "y_log_pred = model.predict(X_test)\n",
    "y_pred = np.exp(y_log_pred)\n",
    "\n",
    "test['price'] = y_pred\n",
    "test[ ['id', 'price'] ].to_csv('./output/model_xgb.csv', index=False)"
   ]
  },
  {
   "cell_type": "code",
   "execution_count": null,
   "metadata": {},
   "outputs": [],
   "source": []
  }
 ],
 "metadata": {
  "accelerator": "GPU",
  "colab": {
   "name": "tourDW.ipynb",
   "provenance": [],
   "version": "0.3.2"
  },
  "kernelspec": {
   "display_name": "Python 3",
   "language": "python",
   "name": "python3"
  },
  "language_info": {
   "codemirror_mode": {
    "name": "ipython",
    "version": 3
   },
   "file_extension": ".py",
   "mimetype": "text/x-python",
   "name": "python",
   "nbconvert_exporter": "python",
   "pygments_lexer": "ipython3",
   "version": "3.7.3"
  }
 },
 "nbformat": 4,
 "nbformat_minor": 1
}
